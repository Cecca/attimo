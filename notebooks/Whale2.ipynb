{
 "cells": [
  {
   "cell_type": "markdown",
   "id": "434917bc-bf40-4a46-a1a4-8bc5633bede9",
   "metadata": {},
   "source": [
    "# Creating a univariate time series out of underwater microphones\n",
    "\n",
    "This notebook creates the `data/Whales.txt.gz` dataset, a univariate time series with the magnitude (in Decibels) of an underwater microphone signal in the frequency range between 360 and 370 Hz, where some whale vocalizations occur (see the notebook `Whale.ipynb` in this same repository).\n",
    "\n",
    "The original data is obtained from the [NOAA](https://sanctuaries.noaa.gov/science/monitoring/sound/) project using the following command (which does not work behind a firewall):\n",
    "\n",
    "    gsutil -m cp \"gs://noaa-passive-bioacoustic/pifsc/CrossSM/CSM02/audio/Cross_A_02_06*.d20.x.flac\" .\n",
    "\n",
    "The procedure is the following:\n",
    "\n",
    "- The original signal (in the time domain) is divided in (overlapping) windows of 2048 samples each. The offset between window starts is 64 samples.\n",
    "- For each window we compute the Fourier Transform\n",
    "- The amplitudes in the frequence range 360-370Hz are summed, the others discarded\n",
    "- The resulting univariate time series is transformed in Decibels, using the maximum amplitude as reference point.\n",
    "\n",
    "The resulting time series has 308941605 values, spanning around 22 days worth of data."
   ]
  },
  {
   "cell_type": "code",
   "execution_count": 13,
   "id": "c7db7bf5-f6ec-4f7c-8c60-b50bbc5cbb40",
   "metadata": {},
   "outputs": [],
   "source": [
    "import librosa\n",
    "import librosa.display\n",
    "import soundfile\n",
    "import numpy as np\n",
    "import matplotlib.pyplot as plt\n",
    "import glob\n",
    "import stumpy\n",
    "from tqdm.notebook import tqdm\n",
    "import gzip"
   ]
  },
  {
   "cell_type": "code",
   "execution_count": 2,
   "id": "f882d6fd-e21f-45a7-b586-bad7becdd033",
   "metadata": {},
   "outputs": [],
   "source": [
    "n_fft = 2048\n",
    "win_length = n_fft\n",
    "hop_length = win_length // 32\n",
    "sr = 10000"
   ]
  },
  {
   "cell_type": "code",
   "execution_count": 3,
   "id": "98db8090-6618-4158-b0af-7031a3bb7ed2",
   "metadata": {},
   "outputs": [],
   "source": [
    "mpw = librosa.time_to_frames(1, n_fft=n_fft, hop_length=hop_length, sr=sr)"
   ]
  },
  {
   "cell_type": "code",
   "execution_count": 4,
   "id": "c013bda3-9e78-4d62-b877-564c1d69bea7",
   "metadata": {},
   "outputs": [
    {
     "data": {
      "text/plain": [
       "((array([74, 75]),), array([361.328125 , 366.2109375]))"
      ]
     },
     "execution_count": 4,
     "metadata": {},
     "output_type": "execute_result"
    }
   ],
   "source": [
    "freqs = librosa.fft_frequencies(n_fft=n_fft, sr=sr)\n",
    "freqs_focus = np.where((freqs >= 360) & (freqs <= 370))\n",
    "freqs_focus, freqs[freqs_focus]"
   ]
  },
  {
   "cell_type": "code",
   "execution_count": 5,
   "id": "a96ccea9-b9fe-4a12-aa58-093492e09c77",
   "metadata": {},
   "outputs": [],
   "source": [
    "def iter_all(pat):\n",
    "    files = sorted(glob.glob(pat))\n",
    "    for f in tqdm(files):\n",
    "        yield soundfile.read(f)"
   ]
  },
  {
   "cell_type": "code",
   "execution_count": 6,
   "id": "d93862d5-c70a-4c31-bdb1-8ee6427114a4",
   "metadata": {},
   "outputs": [
    {
     "data": {
      "application/vnd.jupyter.widget-view+json": {
       "model_id": "6e6180c711b74945b1c899be64a10823",
       "version_major": 2,
       "version_minor": 0
      },
      "text/plain": [
       "  0%|          | 0/884 [00:00<?, ?it/s]"
      ]
     },
     "metadata": {},
     "output_type": "display_data"
    }
   ],
   "source": [
    "amplitude = np.concatenate([\n",
    "    np.abs(librosa.stft(signal, n_fft=n_fft, win_length=win_length, hop_length=hop_length)[freqs_focus].sum(axis=0))\n",
    "    for signal, sr in iter_all('data/Cross_A_02_06*.flac')\n",
    "])"
   ]
  },
  {
   "cell_type": "code",
   "execution_count": 10,
   "id": "389edacf-b8bb-4932-ab6f-15d7db4152a1",
   "metadata": {},
   "outputs": [],
   "source": [
    "dbs = librosa.amplitude_to_db(amplitude, ref=np.max)"
   ]
  },
  {
   "cell_type": "code",
   "execution_count": 15,
   "id": "dfc9fe17-59a2-431e-b44d-2f9c5b7a27b3",
   "metadata": {},
   "outputs": [],
   "source": [
    "with gzip.open('data/Whales.txt.gz', 'wb') as fp:\n",
    "    np.savetxt(fp, dbs)"
   ]
  },
  {
   "cell_type": "code",
   "execution_count": 20,
   "id": "da5f2e15-4818-42c1-98b4-baa52f69a05b",
   "metadata": {},
   "outputs": [
    {
     "data": {
      "text/plain": [
       "22.88456451851852"
      ]
     },
     "execution_count": 20,
     "metadata": {},
     "output_type": "execute_result"
    }
   ],
   "source": [
    "librosa.frames_to_time(dbs.shape[0], hop_length=hop_length, n_fft=n_fft, sr=sr) / (60 * 60 * 24)"
   ]
  }
 ],
 "metadata": {
  "kernelspec": {
   "display_name": "Python 3 (ipykernel)",
   "language": "python",
   "name": "python3"
  },
  "language_info": {
   "codemirror_mode": {
    "name": "ipython",
    "version": 3
   },
   "file_extension": ".py",
   "mimetype": "text/x-python",
   "name": "python",
   "nbconvert_exporter": "python",
   "pygments_lexer": "ipython3",
   "version": "3.9.12"
  }
 },
 "nbformat": 4,
 "nbformat_minor": 5
}
