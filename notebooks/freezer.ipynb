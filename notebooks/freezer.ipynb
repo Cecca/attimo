{
 "cells": [
  {
   "cell_type": "markdown",
   "id": "68ee1fbf-6043-4f95-8061-06622712f8e3",
   "metadata": {},
   "source": [
    "This notebook investigates the behavior of the matrix profile in finding the top-10 motifs in the `freezer` dataset."
   ]
  },
  {
   "cell_type": "code",
   "execution_count": 1,
   "id": "de627e09-a030-4b8e-a3ba-3940e06e337c",
   "metadata": {
    "tags": []
   },
   "outputs": [],
   "source": [
    "import numpy as np\n",
    "import matplotlib.pyplot as plt\n",
    "import os\n",
    "import requests"
   ]
  },
  {
   "cell_type": "markdown",
   "id": "31ced59b-8ecd-4cc1-aa17-35f9593b1ef0",
   "metadata": {},
   "source": [
    "We work using the z-normalized euclidean distance, implemented as follows"
   ]
  },
  {
   "cell_type": "code",
   "execution_count": 2,
   "id": "69122d33-96c4-43dd-ad0c-06f72a037a52",
   "metadata": {},
   "outputs": [],
   "source": [
    "def znorm(x):\n",
    "    return (x - x.mean()) / x.std()\n",
    "\n",
    "def zeucl(x, y):\n",
    "    return np.linalg.norm(znorm(x) - znorm(y))"
   ]
  },
  {
   "cell_type": "markdown",
   "id": "346736df-3cd1-4e65-931c-9a0939efe035",
   "metadata": {},
   "source": [
    "First, we download the dataset"
   ]
  },
  {
   "cell_type": "code",
   "execution_count": 3,
   "id": "2ecb2abc-174c-435a-b0de-f367a5c5431a",
   "metadata": {},
   "outputs": [],
   "source": [
    "def download(url, filename, dtype=np.float64):\n",
    "    if not os.path.isfile(filename):\n",
    "        r = requests.get(url)\n",
    "        with open(filename, 'wb') as fd:\n",
    "            for chunk in r.iter_content(chunk_size=128):\n",
    "                fd.write(chunk)\n",
    "    return np.loadtxt(filename, dtype=dtype)"
   ]
  },
  {
   "cell_type": "code",
   "execution_count": 4,
   "id": "906c316f-11e3-4426-a4b4-04c74767a044",
   "metadata": {},
   "outputs": [],
   "source": [
    "freezer = download('https://figshare.com/ndownloader/files/36982390', \n",
    "                   'figshare.txt.gz')"
   ]
  },
  {
   "cell_type": "markdown",
   "id": "60ab4670-448e-4fbe-8476-f02de19288f5",
   "metadata": {},
   "source": [
    "Then, we compute the matrix profile. To do so, we use [SCAMP](https://github.com/zpzim/SCAMP) using the provided Docker image on a GPU-enabled machine, with the following command:\n",
    "\n",
    "```\n",
    "singularity run --nv \\\n",
    "    docker://zpzim/scamp:latest /SCAMP/build/SCAMP \\\n",
    "    --window 5000 --input_a_file_name=freezer.txt\n",
    "```\n",
    "\n",
    "For convenience, the output has been saved in a couple of files and also uploaded to figshare."
   ]
  },
  {
   "cell_type": "code",
   "execution_count": 5,
   "id": "27018ca1-9aa7-48a2-b8d0-fab2da874967",
   "metadata": {},
   "outputs": [],
   "source": [
    "mp = download('https://figshare.com/ndownloader/files/39415483', \n",
    "              'freezer.mp.5000.txt')\n",
    "mp_index = download('https://figshare.com/ndownloader/files/39415486', \n",
    "                    'freezer.mp.index.5000.txt', dtype=np.int32)"
   ]
  },
  {
   "cell_type": "markdown",
   "id": "b5882ba8-390d-499d-bba6-997c6ab5ccdf",
   "metadata": {},
   "source": [
    "With the following function we iterate through the motifs discovered by the matrix profile so that no overlap between found subsequences occurs. The procedure is as follows. First we find the minimum in the matrix profile, take note of the corresponding indices and distance, and mask out all the subsequences that overlap with the two that have just been found, which are returned.\n",
    "Then, we find the next minimum in the matrix profile, such that both corresponding subsequence do not overlap with any previously defined subsequence."
   ]
  },
  {
   "cell_type": "code",
   "execution_count": 6,
   "id": "b0d88010-2877-4ab0-8701-8b4b82a1d31f",
   "metadata": {},
   "outputs": [
    {
     "name": "stdout",
     "output_type": "stream",
     "text": [
      "0 (3705031, 1834102, 4.195242485)\n",
      "1 (3698075, 4733298, 5.765751866)\n",
      "2 (2352371, 4186995, 7.077046765)\n",
      "3 (4002563, 3993450, 7.318316307)\n",
      "4 (4618976, 4812738, 9.207241828)\n",
      "5 (1825969, 1993859, 9.366285725)\n",
      "6 (1697587, 1408089, 10.56533893)\n",
      "7 (5169982, 6429402, 11.46242184)\n",
      "8 (6641806, 5230708, 12.46052708)\n",
      "9 (6339277, 191377, 12.50717434)\n",
      "10 (36578, 3988437, 12.73866733)\n"
     ]
    }
   ],
   "source": [
    "def iter_motifs(mp, mp_index, w):\n",
    "    \"\"\"Enumerate the motifs, excluding overlapping subsequences.\"\"\"\n",
    "    def mask_out(mask, i):\n",
    "        start = max(0, i-w)\n",
    "        end = min(len(mask), i+w)\n",
    "        mask[start:end] = False\n",
    "        \n",
    "    mask = np.ones_like(mp, dtype=bool)\n",
    "    mp_sorted = np.argsort(mp, axis=0)\n",
    "    for i in mp_sorted:\n",
    "        j = mp_index[i]\n",
    "        dist = mp[i]\n",
    "        if mask[i] and mask[j]:\n",
    "            # mask out overlapping subsequences\n",
    "            mask_out(mask, i)\n",
    "            mask_out(mask, j)\n",
    "            # return motif pair\n",
    "            yield (i, j, dist)\n",
    "            \n",
    "for rank, motif in enumerate(iter_motifs(mp, mp_index, 5000)):\n",
    "    if rank > 10:\n",
    "        break\n",
    "    print(rank, motif)\n"
   ]
  },
  {
   "cell_type": "markdown",
   "id": "50dd40e0-d4d7-41ae-b996-57bcf809850e",
   "metadata": {},
   "source": [
    "The above list reports the first 10 motifs found in such way.\n",
    "\n",
    "Consider however the following pair of subsequences (which is the one mentioned in the paper).\n",
    "Given their distance, this pair should be the rank-7 motif in the list above. However, this particular motif with this particular window length _with this_ definition of trivial match (no overlapping can happen at all) is not found in the matrix profile."
   ]
  },
  {
   "cell_type": "code",
   "execution_count": 7,
   "id": "4a635476-13ca-4df7-a7f5-25d509f6fea8",
   "metadata": {},
   "outputs": [
    {
     "data": {
      "text/plain": [
       "11.337788263102953"
      ]
     },
     "execution_count": 7,
     "metadata": {},
     "output_type": "execute_result"
    }
   ],
   "source": [
    "w = 5000\n",
    "i = 3815625\n",
    "j = 5170040\n",
    "\n",
    "zeucl(freezer[i:i+w], freezer[j:j+w])"
   ]
  },
  {
   "cell_type": "markdown",
   "id": "aa3a0725-2732-4277-8f9e-db70f3699b0d",
   "metadata": {},
   "source": [
    "Why is the above motif not found in the matrix profile?"
   ]
  },
  {
   "cell_type": "markdown",
   "id": "83704485-e2b4-42c9-8d11-07ccdb8da17e",
   "metadata": {},
   "source": [
    "Let's first look at the subsequence at `i`. Its nearest neighbor is at distance 10.33, and is the subsequence 4732333, which is only 965 timestamps away (with a window length of 5000) from subsequence 4733298, which participates in the motif of rank 2 and therefore cannot be re-used to form another motif."
   ]
  },
  {
   "cell_type": "code",
   "execution_count": 8,
   "id": "208d7719-2544-47c3-ae4c-2bc5964c8710",
   "metadata": {},
   "outputs": [
    {
     "data": {
      "text/plain": [
       "(10.33695558, 4732333)"
      ]
     },
     "execution_count": 8,
     "metadata": {},
     "output_type": "execute_result"
    }
   ],
   "source": [
    "mp[i], mp_index[i]"
   ]
  },
  {
   "cell_type": "markdown",
   "id": "4b779e6f-11e0-466a-8244-9501619db88a",
   "metadata": {},
   "source": [
    "Similarly, the subsequence at index `j` has its nearest neighbor at subsequence `1825878`, which is only 91 timestamps away from subsequence `1825969`."
   ]
  },
  {
   "cell_type": "code",
   "execution_count": 9,
   "id": "ef9ecce0-0195-4aee-a051-b015c39f741f",
   "metadata": {},
   "outputs": [
    {
     "data": {
      "text/plain": [
       "(11.02213133, 1825878)"
      ]
     },
     "execution_count": 9,
     "metadata": {},
     "output_type": "execute_result"
    }
   ],
   "source": [
    "mp[j], mp_index[j]"
   ]
  },
  {
   "cell_type": "markdown",
   "id": "5e6efcad-9a39-458a-a657-7a398a5714a7",
   "metadata": {},
   "source": [
    "Therefore, we have a pair of subsequences that are not the nearest neighbor of each other, and that nonetheless should part of the top-10 nearest neighbors, as they are defined in our paper.\n",
    "\n",
    "Given that the matrix profile contains information only about the nearest neighbors, it does not contain the information needed to correctly place this pair in the ranking of motifs."
   ]
  }
 ],
 "metadata": {
  "kernelspec": {
   "display_name": "Python 3 (ipykernel)",
   "language": "python",
   "name": "python3"
  },
  "language_info": {
   "codemirror_mode": {
    "name": "ipython",
    "version": 3
   },
   "file_extension": ".py",
   "mimetype": "text/x-python",
   "name": "python",
   "nbconvert_exporter": "python",
   "pygments_lexer": "ipython3",
   "version": "3.10.6"
  }
 },
 "nbformat": 4,
 "nbformat_minor": 5
}
