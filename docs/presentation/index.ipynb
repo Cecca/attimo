{
  "cells": [
    {
      "cell_type": "raw",
      "metadata": {},
      "source": [
        "---\n",
        "#title: Fast and Scalable Mining of Time Series Motifs with Probabilistic Guarantees\n",
        "title: Mining Time Series Motifs with Probabilistic Guarantees\n",
        "author: \n",
        "  name: Matteo Ceccarello\n",
        "  email: matteo.ceccarello@unipd.it\n",
        "institute: University of Padova\n",
        "jointwork: Johann Gamper (U. Bolzano)\n",
        "format: \n",
        "  revealjs:\n",
        "    embed-resources: true\n",
        "    self-contained-math: true\n",
        "    css: styles.css\n",
        "    slide-number: true\n",
        "    template-partials:\n",
        "      - title-slide.html\n",
        "---"
      ],
      "id": "c003e871"
    },
    {
      "cell_type": "code",
      "metadata": {},
      "source": [
        "import polars as pl\n",
        "from sklearn.decomposition import PCA\n",
        "from sklearn.preprocessing import MinMaxScaler\n",
        "import matplotlib.pyplot as plt\n",
        "import numpy as np\n",
        "from numpy.lib.stride_tricks import sliding_window_view\n",
        "from utils import *\n",
        "\n",
        "w_insect = 400\n",
        "insect = np.loadtxt(\"insect15.txt\")\n",
        "\n",
        "w = 640\n",
        "i, j = 643, 8724\n",
        "motif_idxs = np.array([i, j], dtype=np.int64)\n",
        "\n",
        "np.random.seed(1234)\n",
        "steamgen = pl.read_csv(\"steamgen.csv\")\n",
        "steam = steamgen.select(\"steam flow\").to_numpy()[:, 0]\n",
        "sample_idxs = np.random.choice(\n",
        "    np.arange(steam.shape[0]-w, dtype=np.int64), 20)\n",
        "p_idxs = np.concatenate([motif_idxs, sample_idxs])\n",
        "\n",
        "windows = sliding_window_view(steam, w)\n",
        "swindows = windows[p_idxs, :]\n",
        "embedder = PCA(n_components=2)\n",
        "prj = embedder.fit_transform(swindows)\n",
        "np.random.seed(1234)\n",
        "prj = prj + np.random.normal(scale=8, size=prj.shape)\n",
        "prj = MinMaxScaler(feature_range=(-0.5, 0.5)).fit_transform(prj)"
      ],
      "id": "2d64e9f2",
      "execution_count": null,
      "outputs": []
    },
    {
      "cell_type": "markdown",
      "metadata": {},
      "source": [
        "## Outline\n",
        "\n",
        "1. Problem definition\n",
        "2. State of the art\n",
        "3. Locality Sensitive Hashing\n",
        "4. Our algorithm\n",
        "5. Experimental results\n",
        "\n",
        "## Motivation\n",
        "\n",
        "<!-- TODO: Write motivation -->\n",
        "\n",
        "## Subsequences {.smaller}\n",
        "\n",
        "<!-- TODO: Introduce the Euclidean distance between subsequences -->\n",
        "\n",
        "::::{.r-stack}\n",
        ":::{}"
      ],
      "id": "70846103"
    },
    {
      "cell_type": "code",
      "metadata": {},
      "source": [
        "plot_ts(insect)"
      ],
      "id": "d4fea4e5",
      "execution_count": null,
      "outputs": []
    },
    {
      "cell_type": "markdown",
      "metadata": {},
      "source": [
        ":::\n",
        "\n",
        ":::{.fragment fragment-index=1}"
      ],
      "id": "30aee583"
    },
    {
      "cell_type": "code",
      "metadata": {},
      "source": [
        "plot_ts(insect, w=w_insect, highlight=[200])"
      ],
      "id": "a66ac054",
      "execution_count": null,
      "outputs": []
    },
    {
      "cell_type": "markdown",
      "metadata": {},
      "source": [
        ":::\n",
        "\n",
        ":::{.fragment fragment-index=2}"
      ],
      "id": "c35f58c8"
    },
    {
      "cell_type": "code",
      "metadata": {},
      "source": [
        "plot_ts(insect, w=w_insect, highlight=[200, 6974])"
      ],
      "id": "11f93209",
      "execution_count": null,
      "outputs": []
    },
    {
      "cell_type": "markdown",
      "metadata": {},
      "source": [
        ":::\n",
        "\n",
        ":::{.fragment fragment-index=3}"
      ],
      "id": "6043b03d"
    },
    {
      "cell_type": "code",
      "metadata": {},
      "source": [
        "plot_ts(insect, w=w_insect, highlight=[200, 6974, 8490])"
      ],
      "id": "dd6a92bb",
      "execution_count": null,
      "outputs": []
    },
    {
      "cell_type": "markdown",
      "metadata": {},
      "source": [
        ":::\n",
        "::::\n",
        "\n",
        ":::{.fragment fragment-index=1}\n",
        "Fix a subsequence length $w$\n",
        ":::\n",
        "\n",
        "::::{.columns}\n",
        ":::{.column .fragment fragment-index=2}"
      ],
      "id": "f1103997"
    },
    {
      "cell_type": "code",
      "metadata": {},
      "source": [
        "plot_eucl(insect, w=w_insect, i=6974, j=200, ci=\"steelblue\", cj=\"forestgreen\")"
      ],
      "id": "fa8c4135",
      "execution_count": null,
      "outputs": []
    },
    {
      "cell_type": "markdown",
      "metadata": {},
      "source": [
        ":::\n",
        "\n",
        ":::{.column .fragment fragment-index=3}"
      ],
      "id": "ab218fac"
    },
    {
      "cell_type": "code",
      "metadata": {},
      "source": [
        "plot_eucl(insect, w=w_insect, i=6974, j=8490, ci=\"steelblue\", cj=\"orange\")"
      ],
      "id": "f0a05d82",
      "execution_count": null,
      "outputs": []
    },
    {
      "cell_type": "markdown",
      "metadata": {},
      "source": [
        ":::\n",
        "::::\n",
        "\n",
        ". . .\n",
        "\n",
        "- The Euclidean distance measures the _similarity_ between subsequences\n",
        "- Subsequences can be seen as points in a $w$ dimensional space\n",
        "\n",
        "## Top-$k$ motifs {.center}\n",
        "\n",
        "<!-- TODO: Introduce the problem definition, with figures -->\n",
        "\n",
        "## {.center}\n",
        "\n",
        "![](imgs/steamgen-with-window.png)\n",
        "\n",
        "## {.center}\n",
        "\n",
        "![](imgs/steamgen-with-motifs.png)\n",
        "\n",
        "\n",
        "## Top-$k$ motifs {.center}\n",
        "\n",
        "Consider all pairs of (non-overlapping) subsequences of length $w$ of a given time series.\n",
        "The first $k$ by increasing distance are the top-$k$ motifs.\n",
        "\n",
        "## State of the art: Matrix Profile\n",
        "\n",
        "<center>\n",
        "![](imgs/steamgen-with-matrix-profile.png){width=\"80%\"}\n",
        "</center>\n",
        "\n",
        "::: aside\n",
        "Zimmerman et al.\n",
        "_Scaling Time Series Motif Discovery with GPUs to Break a Quintillion Pairwise Comparisons a Day and Beyond._\n",
        "SoCC19\n",
        ":::\n",
        "\n",
        "## State of the art: Matrix Profile {.smaller}\n",
        "\n",
        "- For each subsequence, find the nearest neighbor\n",
        "- Find the pair at minimum distance\n",
        "\n",
        ". . .\n",
        "\n",
        "- Leverage the fact that consecutive subsequences share a lot of structure\n",
        "- Parallelize with many GPUs\n",
        "\n",
        ". . .\n",
        "\n",
        "- Still, it's a $\\Omega(n^2)$ algorithm\n",
        "\n",
        "- Finds motifs out of 1 billion long time series in one day, using 5 GPUs \n",
        "\n",
        "::: aside\n",
        "Zimmerman et al.\n",
        "_Scaling Time Series Motif Discovery with GPUs to Break a Quintillion Pairwise Comparisons a Day and Beyond._\n",
        "SoCC19\n",
        ":::\n",
        "\n",
        "##\n",
        "\n",
        "### Goal\n",
        "\n",
        "- Find the top motifs without computing all-pairs-distances\n",
        "- We need an index\n",
        "\n",
        ":::{.fragment}\n",
        "\n",
        "### Challenges\n",
        "\n",
        "- Subsequences can be seen as vectors\n",
        "- These vectors are high dimensional\n",
        "- Curse of dimensionality: indices such as R-trees degrade to linear scans\n",
        ":::\n",
        "\n",
        "## {.center}\n",
        "\n",
        "To address these challenges, we will use an approach based on\n",
        "Locality Sensitive Hashing (LSH)\n",
        "\n",
        "## {.smaller}\n",
        "\n",
        ":::{.absolute top=0}"
      ],
      "id": "18068722"
    },
    {
      "cell_type": "code",
      "metadata": {},
      "source": [
        "plot_ts(steam)"
      ],
      "id": "4aeec76b",
      "execution_count": null,
      "outputs": []
    },
    {
      "cell_type": "markdown",
      "metadata": {},
      "source": [
        ":::\n",
        "\n",
        "\n",
        ":::{.fragment .absolute top=0 fragment-index=1}"
      ],
      "id": "dcad178f"
    },
    {
      "cell_type": "code",
      "metadata": {},
      "source": [
        "plot_ts(steam, w=w, highlight=[i, j])\n",
        "plt.savefig(\"imgs/steam-highlight.png\", dpi=300)"
      ],
      "id": "7bc08f2f",
      "execution_count": null,
      "outputs": []
    },
    {
      "cell_type": "markdown",
      "metadata": {},
      "source": [
        ":::\n",
        "\n",
        ":::{.fragment .absolute top=\"30%\" fragment-index=1}"
      ],
      "id": "4e4ade57"
    },
    {
      "cell_type": "code",
      "metadata": {},
      "source": [
        "plot_projection_circle(prj, highlight=[0, 1])"
      ],
      "id": "818bf978",
      "execution_count": null,
      "outputs": []
    },
    {
      "cell_type": "markdown",
      "metadata": {},
      "source": [
        ":::\n",
        "\n",
        ":::{.fragment .absolute top=\"40%\" right=0 fragment-index=2}\n",
        "We consider the\n",
        "z-normalized Euclidean distance\n",
        "$$\n",
        "d(x, y) = \\sqrt{\\sum_{i\\in[1,w]} \\left( \n",
        "  \\frac{x_i - \\bar{x}}{\\sigma_x}\n",
        "  -\n",
        "  \\frac{y_i - \\bar{y}}{\\sigma_y}\n",
        "\\right)^2\n",
        "}\n",
        "$$\n",
        "In this example we have a window length $w = 640$, <br />\n",
        "hence we have\n",
        "vectors in $\\mathbb{R}^{640}$\n",
        ":::\n",
        "\n",
        "## {.smaller}\n",
        "\n",
        ":::{.absolute top=\"20%\"}"
      ],
      "id": "a6294ec3"
    },
    {
      "cell_type": "code",
      "metadata": {},
      "source": [
        "plot_projection_circle(prj)"
      ],
      "id": "e7b51602",
      "execution_count": null,
      "outputs": []
    },
    {
      "cell_type": "markdown",
      "metadata": {},
      "source": [
        ":::\n",
        "\n",
        ":::{.fragment .absolute top=\"20%\" fragment-index=1}"
      ],
      "id": "216ba6e1"
    },
    {
      "cell_type": "code",
      "metadata": {},
      "source": [
        "plot_hashes(prj, k=1, r=0.25, seed=1234)\n",
        "plt.savefig(\"imgs/steam-hashes-k1-l1.png\", dpi=300)"
      ],
      "id": "ff513b5c",
      "execution_count": null,
      "outputs": []
    },
    {
      "cell_type": "markdown",
      "metadata": {},
      "source": [
        ":::\n",
        "\n",
        ":::{.absolute top=10 left=\"54%\"}\n",
        "Locality Sensitive Hash function:\n",
        "\n",
        "- choose $r \\in \\mathbb{R}^+$\n",
        "- sample $\\vec{a} \\sim \\mathcal{N}(0,1)^w$, $b \\sim \\mathcal{U}(0,r)$\n",
        "\n",
        "$$\n",
        "h(\\vec{x}) = \\left\\lfloor\\frac{\\vec{a} \\cdot \\vec{x} + b}{r}\\right\\rfloor\n",
        "$$\n",
        ":::\n",
        "\n",
        ":::{.fragment .absolute bottom=\"20%\" left=\"54%\" fragment-index=1}\n",
        "The key point is that we only compute the distance \n",
        "of\n",
        "subsequences falling <br/>into the same bucket.\n",
        ":::\n",
        "\n",
        ":::{.fragment .absolute bottom=0 left=\"54%\" fragment-index=2}"
      ],
      "id": "e7fc877b"
    },
    {
      "cell_type": "code",
      "metadata": {},
      "source": [
        "plot_cp(w, 1)\n",
        "plt.savefig(\"imgs/steam-cp-k1-l1.png\", dpi=300)"
      ],
      "id": "4e287f33",
      "execution_count": null,
      "outputs": []
    },
    {
      "cell_type": "markdown",
      "metadata": {},
      "source": [
        ":::\n",
        "\n",
        "## {.smaller}\n",
        "\n",
        ":::{.absolute top=\"20%\" fragment-index=1}"
      ],
      "id": "d885f977"
    },
    {
      "cell_type": "code",
      "metadata": {},
      "source": [
        "plot_hashes(prj, k=2, r=0.25, seed=1234)\n",
        "plt.savefig(\"imgs/steam-hashes-k2-l1.png\", dpi=300)"
      ],
      "id": "b30eafdc",
      "execution_count": null,
      "outputs": []
    },
    {
      "cell_type": "markdown",
      "metadata": {},
      "source": [
        ":::\n",
        "\n",
        ":::{.absolute top=10 left=\"54%\"}\n",
        "To lower the collision probability we concatenate $k$ hash functions\n",
        "$$\n",
        "\\hat{h}(\\vec{x}) = \\langle h_1(\\vec{x}), \\dots, h_k(\\vec{x}) \\rangle\n",
        "$$\n",
        "this makes for a better _precision_ of the index.\n",
        ":::\n",
        "\n",
        "\n",
        ":::{.absolute bottom=0 left=\"54%\" fragment-index=2}"
      ],
      "id": "6a07492c"
    },
    {
      "cell_type": "code",
      "metadata": {},
      "source": [
        "#plot_cp(w, [0.5,1,2])\n",
        "plot_cp(w, 1, [1,2,3,4])\n",
        "plt.savefig(\"imgs/steam-cp-kmany-l1.png\", dpi=300)"
      ],
      "id": "15ce04f6",
      "execution_count": null,
      "outputs": []
    },
    {
      "cell_type": "markdown",
      "metadata": {},
      "source": [
        ":::\n",
        "\n",
        "## {.smaller}\n",
        "\n",
        ":::{.absolute top=\"0%\" fragment-index=1}"
      ],
      "id": "828d9b7a"
    },
    {
      "cell_type": "code",
      "metadata": {},
      "source": [
        "#| layout-ncol: 2\n",
        "for i, seed in enumerate([1234, 243,256,3562,235,1]):\n",
        "    plot_hashes(prj, k=2, r=0.25, seed=seed, size=2, title=f\"Repetition {i+1}\")\n",
        "    plt.savefig(f\"imgs/steam-hashes-k2-{seed}.png\", dpi=300)"
      ],
      "id": "77bc09a2",
      "execution_count": null,
      "outputs": []
    },
    {
      "cell_type": "markdown",
      "metadata": {},
      "source": [
        ":::\n",
        "\n",
        ":::{.absolute top=10 left=\"54%\"}\n",
        "And to increase the _recall_ of the index we repeat $L$ times.\n",
        ":::\n",
        "\n",
        "\n",
        ":::{.absolute bottom=0 left=\"54%\" fragment-index=2}"
      ],
      "id": "6fedb882"
    },
    {
      "cell_type": "code",
      "metadata": {},
      "source": [
        "plot_success_p(w, 1, k=2, ls=[1, 10, 100], title=\"For k=2\")\n",
        "plt.savefig(\"imgs/steam-sp.png\", dpi=300)"
      ],
      "id": "a47b3318",
      "execution_count": null,
      "outputs": []
    },
    {
      "cell_type": "markdown",
      "metadata": {},
      "source": [
        ":::\n",
        "\n",
        "\n",
        "## A simple algorithm {.smaller}\n",
        "\n",
        "1. Build a priority queue to hold candidate motifs\n",
        "\n",
        "2. Fix $K$\n",
        "\n",
        "3. Repeat:\n",
        "  1. Sample $K$ hash functions, hash all the points, and compute the distances of pairs in the same bucket\n",
        "  2. Let $d_k$ be the distance of the $k$-th motif\n",
        "  3. If the probability of having seen all pairs <br /> at distance $\\ge d_k$ is at least $1-\\delta$,<br/> then **return**.\n",
        "\n",
        ":::{.absolute bottom=0 left=\"54%\" .fragment}"
      ],
      "id": "919accb1"
    },
    {
      "cell_type": "code",
      "metadata": {},
      "source": [
        "#plot_success_p(w, 1, k=2, ls=[1, 10, 100], title=\"For fixed k\")\n",
        "plot_success_by_reps(w, 1, k=2, dist=1, max_reps=50)"
      ],
      "id": "bb801273",
      "execution_count": null,
      "outputs": []
    },
    {
      "cell_type": "markdown",
      "metadata": {},
      "source": [
        ":::\n",
        "\n",
        "## Dealing with parameters\n",
        "\n",
        "- How to fix $K$?\n",
        "- The wrong choice could force us to run too many repetitions\n",
        "\n",
        ". . .\n",
        "\n",
        "- We adopt an approach that auto-tunes parameters based on the data\n",
        "\n",
        "## {.center}\n",
        "\n",
        "- $L_{max}$ maximum number of repetitions,\n",
        "- $K_{max}$ maximum number of concatenations (e.g. 4).\n",
        "\n",
        "::::{.columns}\n",
        ":::{.column .fragment}\n",
        "![Repetition 1](imgs/example-rep1.png){width=\"100%\"}\n",
        ":::\n",
        "\n",
        ":::{.column .fragment}\n",
        "![Repetition 2](imgs/example-rep3.png){width=\"100%\"}\n",
        ":::\n",
        "::::\n",
        "\n",
        "## {.smaller .center}\n",
        "\n",
        "In each iteration we compute the distance of all subsequences in the same\n",
        "bucket.\n",
        "\n",
        "::::{.r-stack}\n",
        "\n",
        "<!---- k = 4 ------------------------>\n",
        ":::{.bg-white}"
      ],
      "id": "e97b5a6b"
    },
    {
      "cell_type": "code",
      "metadata": {},
      "source": [
        "k=4\n",
        "dist = 1\n",
        "prevs = []\n",
        "plot_execution(w, r=1, k=k, max_reps=100, rep=1, p_threshold=0.9, dist=dist + 1, prevs=prevs)\n",
        "prevs.append((k, 1))"
      ],
      "id": "a60734f0",
      "execution_count": null,
      "outputs": []
    },
    {
      "cell_type": "markdown",
      "metadata": {},
      "source": [
        "In the first iteration, with $k=4$, we discover a pair at distance 2<br/>\n",
        "<span class=\"text-white\">.</span>\n",
        ":::\n",
        ":::{.fragment .bg-white}"
      ],
      "id": "c32ea68d"
    },
    {
      "cell_type": "code",
      "metadata": {},
      "source": [
        "plot_execution(w, r=1, k=k, max_reps=100, rep=10, p_threshold=0.9, dist=dist, prevs=prevs)\n",
        "prevs.append((k, 10))"
      ],
      "id": "ab94f777",
      "execution_count": null,
      "outputs": []
    },
    {
      "cell_type": "markdown",
      "metadata": {},
      "source": [
        "After 10 repetitions, we find a pair at distance 1<br/>\n",
        "<span class=\"text-white\">.</span>\n",
        ":::\n",
        ":::{.fragment .bg-white}"
      ],
      "id": "2980bd2c"
    },
    {
      "cell_type": "code",
      "metadata": {},
      "source": [
        "plot_execution(w, r=1, k=k, max_reps=100, rep=100, p_threshold=0.9, dist=dist, prevs=prevs)\n",
        "prevs.append((k, 100))"
      ],
      "id": "32e580e0",
      "execution_count": null,
      "outputs": []
    },
    {
      "cell_type": "markdown",
      "metadata": {},
      "source": [
        "After 100 repetitions we did not find a better pair,<br/> and the success probability \n",
        "is about 0.85\n",
        ":::\n",
        "<!---- k = 3 ------------------------>\n",
        ":::{.fragment .bg-white}"
      ],
      "id": "6a402624"
    },
    {
      "cell_type": "code",
      "metadata": {},
      "source": [
        "k=3\n",
        "plot_execution(w, r=1, k=k, max_reps=100, rep=1, p_threshold=0.9, dist=dist, prevs=prevs)\n",
        "prevs.append((k, 1))"
      ],
      "id": "1bb623d7",
      "execution_count": null,
      "outputs": []
    },
    {
      "cell_type": "markdown",
      "metadata": {},
      "source": [
        "We then consider shorter prefixes of the hashes, <br/>going through the 100\n",
        "repetitions again.\n",
        ":::\n",
        ":::{.fragment .bg-white}"
      ],
      "id": "64d0f930"
    },
    {
      "cell_type": "code",
      "metadata": {},
      "source": [
        "plot_execution(w, r=1, k=k, max_reps=100, rep=15, p_threshold=0.9, dist=dist, prevs=prevs)\n",
        "prevs.append((k, 15))"
      ],
      "id": "d0105339",
      "execution_count": null,
      "outputs": []
    },
    {
      "cell_type": "markdown",
      "metadata": {},
      "source": [
        "After 15 repetitions, we observe that the<br/> success probability is above our\n",
        "target, and thus return.\n",
        ":::\n",
        "\n",
        "::::\n",
        "\n",
        "\n",
        "## Complexity {.smaller}\n",
        "\n",
        ":::{#thm-index}\n",
        "The LSH index construction takes time\n",
        "$$\n",
        "O(K_{max} \\cdot \\sqrt{L_{max}} n\\log n)\n",
        "$$\n",
        ":::\n",
        "\n",
        "\n",
        ":::{#thm-motif}\n",
        "Let $d(m_k)$ be the distance of the $k$-th motif,\n",
        "and $i'\\le K$, $j' \\le L$ be the parameters used\n",
        "by the optimal LSH algorithm.\n",
        "Then, the algorithm considers\n",
        "$$\n",
        "O\\left(\n",
        "j'\\sum_{m\\in T^w\\times T^w} p(d(m))^{i'}\n",
        "+\n",
        "(L-j')\\sum_{m\\in T^w\\times T^w} p(d(m))^{i'+1}\n",
        "\\right)\n",
        "$$\n",
        "pairs in expectation.\n",
        ":::\n",
        "\n",
        "::: notes\n",
        "The important thing is that Theorem #thm-motif is dependent on the distribution of distances: if we look at a lot of pairs that is because the distribution of data is difficult.\n",
        ":::\n",
        "\n",
        "\n",
        "## Optimizations\n",
        "\n",
        "- Use a trie data-structure to re-use computations across iterations at different $k$ values\n",
        "- Compute dot producs for hash values in the frequency domain (also done in some implementations of the Matrix Profile)\n",
        "- Compute fewer hash values using _tensoring_\n",
        "\n",
        "\n",
        "## Experimental results {.smaller}\n",
        "\n",
        ":::::{.columns}\n",
        "\n",
        "::::{.column}\n",
        "Find the top-10 motifs.\n",
        "\n",
        ":::{style=\"font-size: 1.3rem;\"}\n",
        "| dataset | $n$  (millions) | RC |\n",
        "|:--------|----:|----------------:|\n",
        "| astro   | 1  |  8.63 |\n",
        "| GAP     | 2  | 9.17 |\n",
        "| freezer | 7  | 7.95 |\n",
        "| ECG     | 7  | 109.06 |\n",
        "| HumanY  | 26 | 581.03 |\n",
        "| Whales  | 308 | 21.66 |\n",
        "| Seismic | 1000 | 274.44 |\n",
        ":::\n",
        "\n",
        "Relative Contrast measures difficulty: higher is easier.\n",
        "$$\n",
        "RC = \\frac{d_{avg}}{d_{m_k}}\n",
        "$$\n",
        "::::\n",
        "\n",
        "::::{.column .fragment}\n",
        "![](imgs/10-motifs.png){width=\"100%\"}\n",
        "::::\n",
        "\n",
        ":::::\n",
        "\n",
        "## Scalability {.smaller}\n",
        "\n",
        "![Synthetic data, planted motifs with different relative contrasts. `SCAMP-gpu` only has one line since it is data-independent.](imgs/scalability_n.png){width=\"100%\"}\n",
        "\n",
        "## Practical takeaways\n",
        "\n",
        ":::{.incremental}\n",
        "\n",
        "- For shorter time series, or if the relative contrast is very small, use the\n",
        "  Matrix Profile.\n",
        "\n",
        "- For time series of a few million values and above, with a not-to-small relative\n",
        "  contrast, try `Attimo`\n",
        ":::\n",
        "\n",
        "## References {.smaller}\n",
        "\n",
        "- Matteo Ceccarello, Johann Gamper:\n",
        "_Fast and Scalable Mining of Time Series Motifs with Probabilistic Guarantees._\n",
        "Proc. VLDB Endow. 15(13): 3841-3853 (2022)\n",
        "\n",
        "::::{.columns}\n",
        ":::{.column}\n",
        "<center>\n",
        "https://github.com/Cecca/attimo\n",
        "\n",
        "![](imgs/qr-attimo-repo.png)\n",
        "</center>\n",
        ":::\n",
        ":::{.column}\n",
        "<br/>\n",
        "<br/>"
      ],
      "id": "f85a9450"
    },
    {
      "cell_type": "code",
      "metadata": {},
      "source": [
        "#| echo: true\n",
        "import pyattimo\n",
        "ts = pyattimo.load_dataset(\"ecg\", prefix=1000000)\n",
        "motifs = pyattimo.MotifsIterator(\n",
        "    ts, \n",
        "    w=1000\n",
        ")\n",
        "m = next(motifs)\n",
        "print(m)"
      ],
      "id": "641187cc",
      "execution_count": null,
      "outputs": []
    },
    {
      "cell_type": "markdown",
      "metadata": {},
      "source": [
        ":::\n",
        "::::\n",
        "\n",
        "<center>\n",
        "  `matteo.ceccarello@unipd.it`\n",
        "</center>\n",
        "\n",
        "## Appendix\n",
        "\n",
        "## Influence of the maximum number of repetitions\n",
        "\n",
        "![Running for top-10 motifs, for different number of repetitions.](imgs/repetitions.png)\n",
        "\n",
        "## Difficult datasets {.smaller}\n",
        "\n",
        "Data from LIGO:\n"
      ],
      "id": "4e1e2452"
    },
    {
      "cell_type": "code",
      "metadata": {},
      "source": [
        "case1 = np.loadtxt(\"imgs/case1.txt\")\n",
        "plot_ts(case1[:2000], w=1000, highlight=[100])"
      ],
      "id": "8e6a2ada",
      "execution_count": null,
      "outputs": []
    },
    {
      "cell_type": "markdown",
      "metadata": {},
      "source": [
        "::::{.columns}\n",
        ":::{.column}\n",
        "- Length 100k, window 1k\n",
        "- Top motif distance $\\approx 40$\n",
        "- Average distance $\\approx 44$\n",
        "- Relative contrast $\\approx 1.1$\n",
        ":::\n",
        ":::{.column}\n",
        "- `Attimo`: 6 hours\n",
        "- `SCAMP`: $\\approx 1$ second\n",
        ":::\n",
        "::::\n",
        "\n",
        ":::{.aside}\n",
        "Thanks to Eamonn Keogh and Nathan Romanelli for providing and discussing this data.\n",
        ":::\n",
        "\n",
        "\n",
        "## `freezer` and the 7-th motif {.smaller}\n",
        "\n",
        "7M points, window 5000\n"
      ],
      "id": "44c9d30b"
    },
    {
      "cell_type": "code",
      "metadata": {},
      "source": [
        "w = 5000\n",
        "freezer = np.loadtxt(\"../../data/freezer.txt.gz\")\n",
        "motifs_mp = [\n",
        "  (3705031, 1834102, 4.195242485),\n",
        "  (3698075, 4733298, 5.765751866),\n",
        "  (2352371, 4186995, 7.077046765),\n",
        "  (4002563, 3993450, 7.318316307),\n",
        "  (4618976, 4812738, 9.207241828),\n",
        "  (1825969, 1993859, 9.366285725),\n",
        "  (1697587, 1408089, 10.56533893),\n",
        "  (5169982, 6429402, 11.46242184),\n",
        "  (6641806, 5230708, 12.46052708),\n",
        "  (6339277, 191377, 12.50717434),\n",
        "  (36578, 3988437, 12.73866733)\n",
        "]\n",
        "i, j = (3815625, 5170040)\n",
        "d = zeucl(freezer[i:i+w], freezer[j:j+w])\n",
        "\n",
        "plt.figure(figsize=(14,3))\n",
        "plt.axhline(0, 0, 13, c=\"gray\")\n",
        "\n",
        "last = 0\n",
        "for ii, jj, dd in motifs_mp:\n",
        "    off = 0.04 if dd - last > 0.6 else 0.08\n",
        "    if dd > 12.7:\n",
        "        off = 0.12      \n",
        "    last = dd\n",
        "    plt.plot([dd,dd], [0, off], c=\"gray\", linewidth=0.2)\n",
        "    plt.scatter(dd, 0, c=\"black\")  \n",
        "    plt.text(dd, off, f\"{dd:.3f}\", fontsize=14, va=\"top\")\n",
        "\n",
        "off = -0.06\n",
        "plt.plot([d, d], [0, off], c=\"firebrick\")\n",
        "plt.scatter(d, 0, c=\"firebrick\")  \n",
        "plt.text(d, off, f\"{d:.3f}\", color=\"firebrick\", fontsize=14, va=\"bottom\")\n",
        "\n",
        "height = 0.16\n",
        "plt.gca().set_ylim((-height, height))\n",
        "\n",
        "plt.axis(\"off\")\n",
        "plt.show()"
      ],
      "id": "5c5b12f6",
      "execution_count": null,
      "outputs": []
    },
    {
      "cell_type": "markdown",
      "metadata": {},
      "source": [
        "- In black are the distances of the top-10 motifs extracted from the matrix\n",
        "  profile.\n",
        "- In red the distance of a pair of subsequences neither of which is the nearest\n",
        "  neighbor of the other, and not overlapping with higher-ranked motifs.\n",
        "- The matrix profile holds the distances and indices of the 1-nearest neighbor\n",
        "  of each subsequence, but top-k motifs would require the k-nearest neighbors\n",
        "  to be maintained in the matrix profile.\n",
        "\n",
        "## Top-k and k-NN {.smaller}\n",
        "\n",
        "::::{.columns}\n",
        ":::{.column}"
      ],
      "id": "27ab31f0"
    },
    {
      "cell_type": "code",
      "metadata": {},
      "source": [
        "#| out-width: \"100%\"\n",
        "points = np.array([\n",
        "  (0,0),\n",
        "  (2,0),\n",
        "  (0.3, 0.3),\n",
        "  (2-0.3, 0.3)\n",
        "])\n",
        "shapes = [\n",
        "  \"o\", \"o\",\n",
        "  \"D\", \"D\"\n",
        "]\n",
        "colors = [\n",
        "  \"darkorange\", \"darkorange\",\n",
        "  \"blue\", \"blue\"\n",
        "]\n",
        "plt.figure(figsize=(5,5))\n",
        "order = [0,2,3,1]\n",
        "plt.plot(points[order, 0], points[order,1], linestyle=\"-\", c=\"black\", zorder=0)\n",
        "plt.plot(points[[0,1], 0], points[[0,1],1], linestyle=\"--\", c=\"firebrick\", zorder=0)\n",
        "\n",
        "for i in range(points.shape[0]):\n",
        "    plt.scatter(points[i,0], points[i,1], c=colors[i], marker=shapes[i], zorder=1)\n",
        "\n",
        "plt.gca().set_aspect('equal')\n",
        "plt.axis(\"off\")\n",
        "plt.gca().set_ylim((-0.1, 0.4))\n",
        "plt.tight_layout()\n",
        "plt.show()"
      ],
      "id": "a82e56bd",
      "execution_count": null,
      "outputs": []
    },
    {
      "cell_type": "markdown",
      "metadata": {},
      "source": [
        ":::\n",
        ":::{.column}\n",
        "- Solid lines are nearest neighbor distances\n",
        "- The dashed line is the distance of the top-2 pair in the definition we are using\n",
        "- The Matrix Profile contains information about 1-nearest neighbors (solid black lines)\n",
        ":::\n",
        "::::\n"
      ],
      "id": "492e3ec3"
    }
  ],
  "metadata": {
    "kernelspec": {
      "name": "python3",
      "language": "python",
      "display_name": "Python 3 (ipykernel)"
    }
  },
  "nbformat": 4,
  "nbformat_minor": 5
}